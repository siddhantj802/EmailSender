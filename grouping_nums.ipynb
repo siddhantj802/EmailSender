{
  "nbformat": 4,
  "nbformat_minor": 0,
  "metadata": {
    "colab": {
      "provenance": [],
      "toc_visible": true,
      "authorship_tag": "ABX9TyM7pfmMX1Jy7BhRGFCBZenQ",
      "include_colab_link": true
    },
    "kernelspec": {
      "name": "python3",
      "display_name": "Python 3"
    },
    "language_info": {
      "name": "python"
    }
  },
  "cells": [
    {
      "cell_type": "markdown",
      "metadata": {
        "id": "view-in-github",
        "colab_type": "text"
      },
      "source": [
        "<a href=\"https://colab.research.google.com/github/siddhantj802/EmailSender/blob/main/grouping_nums.ipynb\" target=\"_parent\"><img src=\"https://colab.research.google.com/assets/colab-badge.svg\" alt=\"Open In Colab\"/></a>"
      ]
    },
    {
      "cell_type": "code",
      "source": [
        "!pip install pyspark"
      ],
      "metadata": {
        "colab": {
          "base_uri": "https://localhost:8080/"
        },
        "id": "5K8fPV7Cz6PU",
        "outputId": "38d8d3ff-5edf-412a-b0e8-5eb638ac6179"
      },
      "execution_count": 2,
      "outputs": [
        {
          "output_type": "stream",
          "name": "stdout",
          "text": [
            "Looking in indexes: https://pypi.org/simple, https://us-python.pkg.dev/colab-wheels/public/simple/\n",
            "Collecting pyspark\n",
            "  Downloading pyspark-3.4.0.tar.gz (310.8 MB)\n",
            "\u001b[2K     \u001b[90m━━━━━━━━━━━━━━━━━━━━━━━━━━━━━━━━━━━━━━━\u001b[0m \u001b[32m310.8/310.8 MB\u001b[0m \u001b[31m4.2 MB/s\u001b[0m eta \u001b[36m0:00:00\u001b[0m\n",
            "\u001b[?25h  Preparing metadata (setup.py) ... \u001b[?25l\u001b[?25hdone\n",
            "Requirement already satisfied: py4j==0.10.9.7 in /usr/local/lib/python3.10/dist-packages (from pyspark) (0.10.9.7)\n",
            "Building wheels for collected packages: pyspark\n",
            "  Building wheel for pyspark (setup.py) ... \u001b[?25l\u001b[?25hdone\n",
            "  Created wheel for pyspark: filename=pyspark-3.4.0-py2.py3-none-any.whl size=311317130 sha256=e3448e68e137b1dfc3e0d8c6ff532fd4f359b13be230d13cbefa2c20b8ab60a6\n",
            "  Stored in directory: /root/.cache/pip/wheels/7b/1b/4b/3363a1d04368e7ff0d408e57ff57966fcdf00583774e761327\n",
            "Successfully built pyspark\n",
            "Installing collected packages: pyspark\n",
            "Successfully installed pyspark-3.4.0\n"
          ]
        }
      ]
    },
    {
      "cell_type": "code",
      "source": [
        "# Import SparkSession\n",
        "from pyspark.sql import SparkSession\n",
        "# Create a Spark Session\n",
        "spark = SparkSession.builder.master(\"local[*]\").getOrCreate()\n",
        "# Check Spark Session Information\n",
        "spark"
      ],
      "metadata": {
        "colab": {
          "base_uri": "https://localhost:8080/",
          "height": 219
        },
        "id": "1e7BBDmz0W32",
        "outputId": "2fc951cf-158f-4806-9862-160366196144"
      },
      "execution_count": 3,
      "outputs": [
        {
          "output_type": "execute_result",
          "data": {
            "text/plain": [
              "<pyspark.sql.session.SparkSession at 0x7fab4c3374c0>"
            ],
            "text/html": [
              "\n",
              "            <div>\n",
              "                <p><b>SparkSession - in-memory</b></p>\n",
              "                \n",
              "        <div>\n",
              "            <p><b>SparkContext</b></p>\n",
              "\n",
              "            <p><a href=\"http://c68db59e4016:4040\">Spark UI</a></p>\n",
              "\n",
              "            <dl>\n",
              "              <dt>Version</dt>\n",
              "                <dd><code>v3.4.0</code></dd>\n",
              "              <dt>Master</dt>\n",
              "                <dd><code>local[*]</code></dd>\n",
              "              <dt>AppName</dt>\n",
              "                <dd><code>pyspark-shell</code></dd>\n",
              "            </dl>\n",
              "        </div>\n",
              "        \n",
              "            </div>\n",
              "        "
            ]
          },
          "metadata": {},
          "execution_count": 3
        }
      ]
    },
    {
      "cell_type": "code",
      "source": [
        "# Import a Spark function from library\n",
        "from pyspark.sql.functions import col"
      ],
      "metadata": {
        "id": "KFULvZ3X0qWT"
      },
      "execution_count": 4,
      "outputs": []
    },
    {
      "cell_type": "code",
      "source": [
        "data = [56, 89, 101, 178, 235, 64, 156, 275, 89, 112, 199, 287, 33, 201, 78, 44]\n",
        "df = spark.createDataFrame([(x,) for x in data], [\"number\"])\n"
      ],
      "metadata": {
        "id": "pULyxMFg007J"
      },
      "execution_count": 5,
      "outputs": []
    },
    {
      "cell_type": "code",
      "source": [
        "df.show()"
      ],
      "metadata": {
        "colab": {
          "base_uri": "https://localhost:8080/"
        },
        "id": "txTDo-w006vo",
        "outputId": "57f02c7e-6c57-4aaa-e470-8cb58b9f5ad2"
      },
      "execution_count": 6,
      "outputs": [
        {
          "output_type": "stream",
          "name": "stdout",
          "text": [
            "+------+\n",
            "|number|\n",
            "+------+\n",
            "|    56|\n",
            "|    89|\n",
            "|   101|\n",
            "|   178|\n",
            "|   235|\n",
            "|    64|\n",
            "|   156|\n",
            "|   275|\n",
            "|    89|\n",
            "|   112|\n",
            "|   199|\n",
            "|   287|\n",
            "|    33|\n",
            "|   201|\n",
            "|    78|\n",
            "|    44|\n",
            "+------+\n",
            "\n"
          ]
        }
      ]
    },
    {
      "cell_type": "code",
      "source": [
        "from pyspark.sql.functions import floor\n",
        "\n",
        "lower_bound = 1\n",
        "upper_bound = 100\n",
        "group_label = 1\n",
        "\n",
        "df = df.withColumn(\"group\", floor((df.number - lower_bound) / upper_bound) + group_label)\n"
      ],
      "metadata": {
        "id": "XEetGDGQ090E"
      },
      "execution_count": 18,
      "outputs": []
    },
    {
      "cell_type": "code",
      "source": [
        "df.show()"
      ],
      "metadata": {
        "colab": {
          "base_uri": "https://localhost:8080/"
        },
        "id": "dubavLYtCcP6",
        "outputId": "0b867812-acbd-4887-f1af-c8f052cdc584"
      },
      "execution_count": 8,
      "outputs": [
        {
          "output_type": "stream",
          "name": "stdout",
          "text": [
            "+------+-----+\n",
            "|number|group|\n",
            "+------+-----+\n",
            "|    56|    1|\n",
            "|    89|    1|\n",
            "|   101|    2|\n",
            "|   178|    2|\n",
            "|   235|    3|\n",
            "|    64|    1|\n",
            "|   156|    2|\n",
            "|   275|    3|\n",
            "|    89|    1|\n",
            "|   112|    2|\n",
            "|   199|    2|\n",
            "|   287|    3|\n",
            "|    33|    1|\n",
            "|   201|    3|\n",
            "|    78|    1|\n",
            "|    44|    1|\n",
            "+------+-----+\n",
            "\n"
          ]
        }
      ]
    },
    {
      "cell_type": "code",
      "source": [
        "grouped_df = df.groupBy(\"group\").agg({\"number\": \"collect_list\"})"
      ],
      "metadata": {
        "id": "MaRn4oYXSxkf"
      },
      "execution_count": 60,
      "outputs": []
    },
    {
      "cell_type": "code",
      "source": [
        "grouped_df.show(truncate = False)"
      ],
      "metadata": {
        "colab": {
          "base_uri": "https://localhost:8080/"
        },
        "id": "RLuPHDaYUUiq",
        "outputId": "ceb473db-91ee-4de8-b089-236b19bbee7f"
      },
      "execution_count": 56,
      "outputs": [
        {
          "output_type": "stream",
          "name": "stdout",
          "text": [
            "+-----+----------------------------+\n",
            "|group|collect_list(number)        |\n",
            "+-----+----------------------------+\n",
            "|1    |[56, 89, 64, 89, 33, 78, 44]|\n",
            "|3    |[235, 275, 287, 201]        |\n",
            "|2    |[101, 178, 156, 112, 199]   |\n",
            "+-----+----------------------------+\n",
            "\n"
          ]
        }
      ]
    },
    {
      "cell_type": "code",
      "source": [
        "#change column name to nums\n",
        "\n",
        "grouped_df = grouped_df.select(col(\"group\").alias(\"Group\"), col(\"collect_list(number)\").alias(\"nums\"))"
      ],
      "metadata": {
        "id": "V7mO-_UKx0m_"
      },
      "execution_count": 62,
      "outputs": []
    },
    {
      "cell_type": "code",
      "source": [
        "from pyspark.sql.functions import col, expr\n",
        "\n",
        "grouped_df = grouped_df.select(col(\"Group\"), expr(\"transform(nums, x -> cast(x as int))\").alias(\"nums\"))\n"
      ],
      "metadata": {
        "id": "obJfihmw1ptf"
      },
      "execution_count": 63,
      "outputs": []
    },
    {
      "cell_type": "code",
      "source": [
        "from pyspark.sql.functions import expr\n",
        "\n",
        "# Calculate the sum of numbers group-wise\n",
        "sum_df = grouped_df.withColumn(\"sum_numbers\", expr(\"aggregate((nums), 0, (acc, x) -> acc + x)\"))\n",
        "\n",
        "# Find the group with the highest sum\n",
        "max_sum_group = sum_df.orderBy(\"sum_numbers\", ascending=False).first()\n",
        "\n",
        "# Extract the highest sum and group information\n",
        "highest_sum = max_sum_group[\"sum_numbers\"]\n",
        "group_with_highest_sum = max_sum_group[\"Group\"]\n",
        "\n",
        "# Print the highest sum and group\n",
        "print(\"Highest Sum:\", highest_sum)\n",
        "print(\"Group with Highest Sum:\", group_with_highest_sum)\n"
      ],
      "metadata": {
        "id": "bMo3rkoZw_Iq",
        "outputId": "9c425e67-676c-4031-e230-0b9bc7518fac",
        "colab": {
          "base_uri": "https://localhost:8080/"
        }
      },
      "execution_count": 65,
      "outputs": [
        {
          "output_type": "stream",
          "name": "stdout",
          "text": [
            "Highest Sum: 998\n",
            "Group with Highest Sum: 3\n"
          ]
        }
      ]
    },
    {
      "cell_type": "code",
      "source": [],
      "metadata": {
        "id": "zo1n0WVP2vWD"
      },
      "execution_count": null,
      "outputs": []
    }
  ]
}